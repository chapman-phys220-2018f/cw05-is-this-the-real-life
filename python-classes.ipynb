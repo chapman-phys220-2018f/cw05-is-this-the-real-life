{
 "cells": [
  {
   "cell_type": "raw",
   "metadata": {
    "collapsed": false
   },
   "source": [
    "**Modules must work together to answer the main question\n",
    "    1.**Object-oriented= data is in hierarchy(functions belong to data)\n",
    "    2.**Functional= functions in hierarchy(data belongs to functions)\n",
    "    3.**Logical= Hierarchical clauses become unified(data and functions belong to clauses)\n",
    "    4.**Procedural= limited types of data\n",
    "Increasing Language Abstraction away from hardware:increases portability, simplifies coding, decreases efficiency\n",
    "Writing easier code is hard to do correctly. Try really thinking through the code to be more efficient. "
   ]
  }
 ],
 "metadata": {
  "kernelspec": {
   "display_name": "Python 3 (Anaconda 5)",
   "language": "python",
   "name": "anaconda5"
  }
 },
 "nbformat": 4,
 "nbformat_minor": 0
}