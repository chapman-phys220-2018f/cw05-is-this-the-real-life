{
 "cells": [
  {
   "cell_type": "code",
   "execution_count": 0,
   "metadata": {
    "collapsed": false
   },
   "outputs": [
   ],
   "source": [
    "# Gage's critique\n",
    "#\n",
    "#-------runfibs.sh-------\n",
    "#The code has comments telling how it works, and is organized into functions that appear to work on the surface.\n",
    "#The code works.\n",
    "#------sequences.py------\n",
    "#Sequences has comments as well, but i think that the variables could have been shorter.\n",
    "#Running the code shows that it works.\n",
    "#--------fib.py----------\n",
    "#The code has comments and is organized well.\n",
    "#This code works."
   ]
  },
  {
   "cell_type": "markdown",
   "metadata": {
    "collapsed": false
   },
   "source": [
    "# Morgan's Critique of Jessica's Code\n",
    "## Sequences.py\n",
    "1. Yay for docstrings!\n",
    "2. You defined a variable called count and set it equal to zero, however you never used it. You can probably delete it.\n",
    "3. And the program runs!\n",
    "## Fib.py\n",
    "1. Were we still supposed to keep our fibonacci in this file? I can't remember.\n",
    "2. Remember your docstrings and descriptions.\n",
    "## Runfibs.sh\n",
    "1. Perfect, just remember doc strings and descriptions!"
   ]
  },
  {
   "cell_type": "code",
   "execution_count": 0,
   "metadata": {
    "collapsed": false
   },
   "outputs": [
   ],
   "source": [
   ]
  },
  {
   "cell_type": "markdown",
   "metadata": {
    "collapsed": false
   },
   "source": [
    "# Morgan's Critique Of Gage's Code\n",
    "\n",
    "## Sequences.py\n",
    "1. Make sure you add the docustring!\n",
    "2. Also, comments telling you how the code works and what it does\n",
    "3. Make sure varibales are descriptive\n",
    "4. Check the case for negative numbers\n",
    "5. But hey the code works yay!\n",
    "\n",
    "## Fib1.py\n",
    "1. Nice, compact recursive definitions\n",
    "2. Descriptions!\n",
    "3. Make sure to handle the negative numbers\n",
    "4. This works too yay!\n",
    "\n",
    "## Runfibs.sh\n",
    "1. I see that there is a command to import something called a test module but I have no idea what it is\n",
    "2. Docustrings and descriptions again!\n",
    "3. Does this program append and create files? I can't tell from the code if it happens or not. When I run the code it doesn't because I don't have that module. "
   ]
  },
  {
   "cell_type": "markdown",
   "metadata": {
    "collapsed": false
   },
   "source": [
    "## Jessica's Critique Of Morgan's Code\n",
    "# Sequences.py\n",
    "1. Good comments/descriptions\n",
    "2. Code is very easy to read\n",
    "3. Has all components of code work\n",
    "\n",
    "# Fib.py\n",
    "1. Very easy to read the code\n",
    "2. I'm not sure what the if __name__ part\n",
    "3. Good descriptions\n",
    "\n",
    "# runfibs.sh\n",
    "1. Maybe add more comments on this one.\n",
    "2. What is fi? I see it twice at the end of the code.\n",
    "3. I'm a little confused about what echo does. I don't have much experience with that."
   ]
  },
  {
   "cell_type": "markdown",
   "metadata": {
    "collapsed": false
   },
   "source": [
    "## Jessica's Critique Of Gage's Code\n",
    "# Sequences.py\n",
    "1. What does the ; do after print function?\n",
    "2. Very simple code! Great!\n",
    "3. Use more descriptions\n",
    "# Fib1.py\n",
    "1. Again very great simple code\n",
    "2. But try using more descriptions for codes.\n",
    "3. Good use of elif.\n",
    "# Runfibs.sh\n",
    "1. Chapman Standard for coding says to write name and info out at top!!\n",
    "2. Use descriptions!\n",
    "3. What is fi?"
   ]
  },
  {
   "cell_type": "markdown",
   "metadata": {
    "collapsed": false
   },
   "source": [
    "## Gage's Critique Of Jessica's Code\n",
    "# Sequences.py\n",
    "1.The fibonacci function does not have many comments that define its function, but it does have the two neccesary docstrings.\n",
    "\n",
    "# Fib.py\n",
    "1.the code does not have docstrings or comments that help a reader see how the code works, but maybe its so simple that it doesn't need a description\n",
    "\n",
    "# runfibs.sh\n",
    "1.the code at the beginning of the file is coded wrong, i believe, and there aren't many comments for comprehension\n",
    "2.no chapman coding standards!\n"
   ]
  }
 ],
 "metadata": {
  "kernelspec": {
   "display_name": "Python 3 (Anaconda 5)",
   "language": "python",
   "name": "anaconda5"
  },
  "language_info": {
   "codemirror_mode": {
    "name": "ipython",
    "version": 3
   },
   "file_extension": ".py",
   "mimetype": "text/x-python",
   "name": "python",
   "nbconvert_exporter": "python",
   "pygments_lexer": "ipython3",
   "version": "3.6.5"
  }
 },
 "nbformat": 4,
 "nbformat_minor": 0
}