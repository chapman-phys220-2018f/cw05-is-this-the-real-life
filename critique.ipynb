{
 "cells": [
  {
   "cell_type": "code",
   "execution_count": 0,
   "metadata": {
    "collapsed": false
   },
   "outputs": [
   ],
   "source": [
    "# Gage's critique\n",
    "#\n",
    "#-------runfibs.sh-------\n",
    "#The code has comments telling how it works, and is organized into functions that appear to work on the surface.\n",
    "#The code works.\n",
    "#------sequences.py------\n",
    "#Sequences has comments as well, but i think that the variables could have been shorter.\n",
    "#Running the code shows that it works.\n",
    "#--------fib.py----------\n",
    "#The code has comments and is organized well.\n",
    "#This code works."
   ]
  },
  {
   "cell_type": "markdown",
   "metadata": {
    "collapsed": false
   },
   "source": [
    "# Morgan's Critique\n",
    "\n",
    "## Sequences.py\n",
    "1. Make sure you add the docustring!\n",
    "2. Also, comments telling you how the code works and what it does\n",
    "3. Make sure varibales are descriptive\n",
    "4. Check the case for negative numbers\n",
    "5. But hey the code works yay!\n",
    "\n",
    "## Fib1.py\n",
    "1. Nice, compact recursive definitions\n",
    "2. Decriptions!\n",
    "3. Make sure to handle the negative numbers\n",
    "4. This works too yay!\n",
    "\n",
    "## Runfibs.sh\n",
    "1. I see that there is a command to import something called a test module but I have no idea what it is\n",
    "2. Docustrings and descriptions again!\n",
    "3. Does this program append and create files? I can't tell from the code if it happens or not. When I run the code it doesn't because I don't have that module. "
   ]
  },
  {
   "cell_type": "code",
   "execution_count": 0,
   "metadata": {
    "collapsed": false
   },
   "outputs": [
   ],
   "source": [
   ]
  }
 ],
 "metadata": {
  "kernelspec": {
   "display_name": "Python 3 (Anaconda 5)",
   "language": "python",
   "name": "anaconda5"
  },
  "language_info": {
   "codemirror_mode": {
    "name": "ipython",
    "version": 3
   },
   "file_extension": ".py",
   "mimetype": "text/x-python",
   "name": "python",
   "nbconvert_exporter": "python",
   "pygments_lexer": "ipython3",
   "version": "3.6.5"
  }
 },
 "nbformat": 4,
 "nbformat_minor": 0
}