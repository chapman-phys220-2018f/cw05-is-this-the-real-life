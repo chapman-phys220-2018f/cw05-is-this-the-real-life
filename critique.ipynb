{
 "cells": [
  {
   "cell_type": "code",
   "execution_count": 0,
   "metadata": {
    "collapsed": false
   },
   "outputs": [
   ],
   "source": [
    "# Gage's critique\n",
    "#\n",
    "#-------runfibs.sh-------\n",
    "#The code has comments telling how it works, and is organized into functions that appear to work on the surface.\n",
    "#The code works.\n",
    "#------sequences.py------\n",
    "#Sequences has comments as well, but i think that the variables could have been shorter.\n",
    "#Running the code shows that it works.\n",
    "#--------fib.py----------\n",
    "#The code has comments and is organized well.\n",
    "#This code works."
   ]
  }
 ],
 "metadata": {
  "kernelspec": {
   "display_name": "Python 3 (Anaconda 5)",
   "language": "python",
   "name": "anaconda5"
  }
 },
 "nbformat": 4,
 "nbformat_minor": 0
}